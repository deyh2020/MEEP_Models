{
 "cells": [
  {
   "cell_type": "code",
   "execution_count": 3,
   "id": "f32e7632",
   "metadata": {},
   "outputs": [],
   "source": [
    "import meep as mp\n",
    "import numpy as np\n",
    "import matplotlib.pyplot as plt "
   ]
  },
  {
   "cell_type": "code",
   "execution_count": 57,
   "id": "0550b79f",
   "metadata": {},
   "outputs": [],
   "source": [
    "cell = mp.Vector3(11,11,0)\n",
    "\n",
    "#Transition vectors\n",
    "tranL = 30\n",
    "startW = 10\n",
    "endW = 1\n",
    "\n",
    "vert = [mp.Vector3(-tranL/2,startW/2,0),mp.Vector3(tranL/2,endW/2,0),mp.Vector3(tranL/2,-endW/2,0),mp.Vector3(-tranL/2,-startW/2,0)]\n",
    "\n",
    "Innie = mp.Cylinder(radius=3.5, material=mp.Medium(index=1.000))\n",
    "\n",
    "Outie = mp.Cylinder(radius=4, material=mp.Medium(index=1.440))\n",
    "\n",
    "\n",
    "geometry = [Outie,Innie]\n",
    "            \n",
    "\n",
    "\n",
    "fsrc = 1/1.5475 # frequency of eigenmode or constant-amplitude source\n",
    "df = 16e-3\n",
    "nfreq = 3000\n",
    "\n",
    "kx = 0.4    # initial guess for wavevector in x-direction of eigenmode\n",
    "kpoint = mp.Vector3(kx)\n",
    "bnum = 1    # band number of eigenmode\n",
    "\n",
    "#sources = [mp.EigenModeSource(src=mp.GaussianSource(fsrc,fwidth=df),\n",
    "#                              center=mp.Vector3(x=-94,y=0),\n",
    "#                              size=mp.Vector3(y=14),\n",
    "#                              direction=mp.NO_DIRECTION,\n",
    "#                              eig_kpoint=kpoint,\n",
    "#                              eig_band=bnum,\n",
    "#                              eig_parity=mp.EVEN_Y+mp.ODD_Z,\n",
    "#                              eig_match_freq=True)]\n",
    "\n",
    "pml_layers = [mp.PML(1.0)]\n",
    "            \n",
    "            \n",
    "resolution = 2\n",
    "\n",
    "sim = mp.Simulation(cell_size=cell,\n",
    "                    boundary_layers=pml_layers,\n",
    "                    geometry=geometry,\n",
    "                    #sources=sources,\n",
    "                    resolution=resolution,\n",
    "                    eps_averaging=False)\n",
    "\n",
    "\n",
    "# transmitted flux\n",
    "tran_fr = mp.FluxRegion(center=mp.Vector3(24,0,0), size=mp.Vector3(0,14,0))\n",
    "tran = sim.add_flux(fsrc, 8e-3, nfreq, tran_fr)\n",
    "\n"
   ]
  },
  {
   "cell_type": "code",
   "execution_count": 59,
   "id": "45be4882",
   "metadata": {},
   "outputs": [
    {
     "data": {
      "image/png": "[encoded data removed]",
      "text/plain": [
       "<Figure size 1200x800 with 1 Axes>"
      ]
     },
     "metadata": {
      "needs_background": "light"
     },
     "output_type": "display_data"
    }
   ],
   "source": [
    "from matplotlib import pyplot as plt\n",
    "%matplotlib inline\n",
    "plt.figure(dpi=200)\n",
    "sim.plot2D(plot_sources_flag=True,plot_monitors_flag=True,\n",
    "          eps_parameters={'interpolation':'none'})\n",
    "\n",
    "plt.savefig('LowRes.pdf',bbox_inches='tight')\n",
    "\n",
    "plt.show()"
   ]
  },
  {
   "cell_type": "code",
   "execution_count": 14,
   "id": "1dffaa6e",
   "metadata": {},
   "outputs": [
    {
     "data": {
      "application/vnd.jupyter.widget-view+json": {
       "model_id": "7580de24d878452fbd9ca2746fc0fe10",
       "version_major": 2,
       "version_minor": 0
      },
      "text/plain": [
       "FloatProgress(value=0.0, description='0% done ')"
      ]
     },
     "metadata": {},
     "output_type": "display_data"
    },
    {
     "name": "stdout",
     "output_type": "stream",
     "text": [
      "Meep progress: 24.700000000000003/100.0 = 24.7% done in 4.0s, 12.2s to go\n",
      "on time step 496 (time=24.8), 0.00807138 s/step\n",
      "Meep progress: 53.2/100.0 = 53.2% done in 8.0s, 7.0s to go\n",
      "on time step 1066 (time=53.3), 0.00702091 s/step\n",
      "Meep progress: 81.55000000000001/100.0 = 81.6% done in 12.0s, 2.7s to go\n",
      "on time step 1633 (time=81.65), 0.00705504 s/step\n",
      "Normalizing field data...\n",
      "run 0 finished at t = 100.0 (2000 timesteps)\n"
     ]
    }
   ],
   "source": [
    "f = plt.figure(dpi=150)\n",
    "Animate = mp.Animate2D(sim, fields=mp.Ez, f=f, realtime=False, normalize=True)\n",
    "sim.run(mp.at_every(0.5,Animate),until=100)\n",
    "plt.close()"
   ]
  },
  {
   "cell_type": "code",
   "execution_count": 5,
   "id": "418e77ba",
   "metadata": {},
   "outputs": [
    {
     "name": "stdout",
     "output_type": "stream",
     "text": [
      "Generating MP4...\n"
     ]
    },
    {
     "data": {
      "text/html": [
       "<video src=\"bent_waveguide.mp4\" controls  >\n",
       "      Your browser does not support the <code>video</code> element.\n",
       "    </video>"
      ],
      "text/plain": [
       "<IPython.core.display.Video object>"
      ]
     },
     "execution_count": 5,
     "metadata": {},
     "output_type": "execute_result"
    }
   ],
   "source": [
    "from IPython.display import Video\n",
    "filename = \"bent_waveguide.mp4\"\n",
    "fps = 10\n",
    "Animate.to_mp4(fps,filename)\n",
    "Video(filename)"
   ]
  },
  {
   "cell_type": "code",
   "execution_count": null,
   "id": "3bffc2ca",
   "metadata": {},
   "outputs": [],
   "source": []
  },
  {
   "cell_type": "code",
   "execution_count": null,
   "id": "179f58db",
   "metadata": {},
   "outputs": [],
   "source": []
  }
 ],
 "metadata": {
  "kernelspec": {
   "display_name": "Python 3 (ipykernel)",
   "language": "python",
   "name": "python3"
  },
  "language_info": {
   "codemirror_mode": {
    "name": "ipython",
    "version": 3
   },
   "file_extension": ".py",
   "mimetype": "text/x-python",
   "name": "python",
   "nbconvert_exporter": "python",
   "pygments_lexer": "ipython3",
   "version": "3.9.7"
  }
 },
 "nbformat": 4,
 "nbformat_minor": 5
}
