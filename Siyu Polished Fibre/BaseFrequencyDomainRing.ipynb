{
 "cells": [
  {
   "cell_type": "code",
   "execution_count": 9,
   "id": "ca8861c3",
   "metadata": {},
   "outputs": [],
   "source": [
    "import meep as mp\n",
    "import numpy as np\n",
    "from numpy import linalg as LA\n",
    "import matplotlib.pyplot as plt\n",
    "\n",
    "n = 1.4440\n",
    "w = 2\n",
    "r = 1\n",
    "pad = 4\n",
    "dpml = 2\n",
    "\n",
    "sxy = 2*(r+w+pad+dpml)\n",
    "cell_size = mp.Vector3(sxy,sxy)\n",
    "\n",
    "pml_layers = [mp.PML(dpml)]\n",
    "\n",
    "nonpml_vol = mp.Volume(mp.Vector3(), size=mp.Vector3(sxy-2*dpml,sxy-2*dpml))\n",
    "\n",
    "Clad = mp.Cylinder(height=mp.inf,\n",
    "                   radius=62.5, \n",
    "                   material=mp.Medium(index=1.44399),\n",
    "                   axis=mp.Vector3(x=1,y=0,z=0) )\n",
    "\n",
    "Core = mp.Cylinder(height=mp.inf,\n",
    "                   radius=4.1, \n",
    "                   material=mp.Medium(index=1.44813),\n",
    "                   axis=mp.Vector3(x=1,y=0,z=0) )\n",
    "\n",
    "geometry = [Clad,Core]\n",
    "\n",
    "fcen = 1/1.55\n",
    "df = 16e-3\n",
    "kpoint = mp.Vector3(mp.X)\n",
    "bnum = 1    # band number of eigenmode\n",
    "\n",
    "src = [mp.EigenModeSource(src=mp.GaussianSource(fcen,fwidth=df),\n",
    "                              center=mp.Vector3(x=-10,y=0,z=0),\n",
    "                      z        size=mp.Vector3(y=12),\n",
    "                              direction=mp.X,\n",
    "                              eig_kpoint=kpoint,\n",
    "                              eig_band=bnum,\n",
    "                              eig_parity=mp.NO_PARITY,\n",
    "                              eig_match_freq=True)]\n",
    "\n",
    "symmetries = [mp.Mirror(mp.X,phase=-1),\n",
    "              mp.Mirror(mp.Y,phase=+1)]\n",
    "\n",
    "sim = mp.Simulation(cell_size=cell_size,\n",
    "                    geometry=geometry,\n",
    "                    sources=src,\n",
    "                    resolution=10,\n",
    "                    force_complex_fields=True,\n",
    "                    symmetries=symmetries,\n",
    "                    boundary_layers=pml_layers)\n",
    "\n"
   ]
  },
  {
   "cell_type": "code",
   "execution_count": 10,
   "id": "502eeac2",
   "metadata": {},
   "outputs": [
    {
     "name": "stdout",
     "output_type": "stream",
     "text": [
      "-----------\n",
      "Initializing structure...\n",
      "Halving computational cell along direction x\n",
      "Halving computational cell along direction y\n",
      "time for choose_chunkdivision = 0.00243092 s\n",
      "Working in 2D dimensions.\n",
      "Computational cell is 18 x 18 x 0 with resolution 10\n",
      "     cylinder, center = (0,0,0)\n",
      "          radius 62.5, height 1e+20, axis (1, 0, 0)\n",
      "          dielectric constant epsilon diagonal = (2.08511,2.08511,2.08511)\n",
      "     cylinder, center = (0,0,0)\n",
      "          radius 4.1, height 1e+20, axis (1, 0, 0)\n",
      "          dielectric constant epsilon diagonal = (2.09708,2.09708,2.09708)\n",
      "time for set_epsilon = 0.0608401 s\n",
      "-----------\n",
      "Meep: using complex fields.\n",
      "MPB solved for frequency_1(0.934277,0,0) = 0.645577 after 120 iters\n",
      "MPB solved for frequency_1(0.933676,0,0) = 0.645161 after 12 iters\n",
      "MPB solved for frequency_1(0.933676,0,0) = 0.645161 after 1 iters\n"
     ]
    },
    {
     "data": {
      "image/png": "[encoded data removed]",
      "text/plain": [
       "<Figure size 1200x800 with 1 Axes>"
      ]
     },
     "metadata": {
      "needs_background": "light"
     },
     "output_type": "display_data"
    }
   ],
   "source": [
    "from matplotlib import pyplot as plt\n",
    "%matplotlib inline\n",
    "plt.figure(dpi=200)\n",
    "sim.plot2D(plot_sources_flag=True,plot_monitors_flag=True,eps_parameters={'interpolation':'none'})\n",
    "plt.show()"
   ]
  },
  {
   "cell_type": "code",
   "execution_count": null,
   "id": "3cc0f56b",
   "metadata": {},
   "outputs": [],
   "source": [
    "num_tols = 1\n",
    "tols = np.power(10, np.arange(-8.0,-8.0-num_tols,-1.0))\n",
    "ez_dat = np.zeros((142,142,num_tols), dtype=np.complex_)\n",
    "\n",
    "for i in range(num_tols):\n",
    "    sim.init_sim()\n",
    "    sim.solve_cw(tols[i], 10000, 10)\n",
    "    ez_dat[:,:,i] = sim.get_array(vol=nonpml_vol, component=mp.Ez)\n",
    "\n",
    "err_dat = np.zeros(num_tols-1)\n",
    "for i in range(num_tols-1):\n",
    "    err_dat[i] = LA.norm(ez_dat[:,:,i]-ez_dat[:,:,num_tols-1])\n",
    "\n",
    "#plt.figure(dpi=150)\n",
    "#plt.loglog(tols[:num_tols-1], err_dat, 'bo-');\n",
    "#plt.xlabel(\"frequency-domain solver tolerance\");\n",
    "#plt.ylabel(\"L2 norm of error in fields\");\n",
    "#plt.show()\n",
    "\n",
    "eps_data = sim.get_array(vol=nonpml_vol, component=mp.Dielectric)\n",
    "ez_data = np.real(ez_dat[:,:,num_tols-1])\n",
    "\n",
    "plt.figure()\n",
    "plt.imshow(eps_data.transpose(), interpolation='spline36', cmap='binary')\n",
    "plt.imshow(ez_data.transpose(), interpolation='spline36', cmap='RdBu', alpha=0.9)\n",
    "plt.axis('off')\n",
    "plt.show()\n",
    "\n",
    "if np.all(np.diff(err_dat) < 0):\n",
    "    print(\"PASSED solve_cw test: error in the fields is decreasing with increasing resolution\")\n",
    "else:\n",
    "    print(\"FAILED solve_cw test: error in the fields is NOT decreasing with increasing resolution\")\n"
   ]
  }
 ],
 "metadata": {
  "kernelspec": {
   "display_name": "Python 3 (ipykernel)",
   "language": "python",
   "name": "python3"
  },
  "language_info": {
   "codemirror_mode": {
    "name": "ipython",
    "version": 3
   },
   "file_extension": ".py",
   "mimetype": "text/x-python",
   "name": "python",
   "nbconvert_exporter": "python",
   "pygments_lexer": "ipython3",
   "version": "3.9.7"
  }
 },
 "nbformat": 4,
 "nbformat_minor": 5
}
