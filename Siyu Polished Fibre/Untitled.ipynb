{
 "cells": [
  {
   "cell_type": "code",
   "execution_count": 1,
   "id": "3fcb487c",
   "metadata": {},
   "outputs": [],
   "source": [
    "import meep as mp\n",
    "import matplotlib.pyplot as plt\n",
    "\n",
    "resolution = 25   # pixels/μm\n",
    "\n",
    "w1 = 1.0          # width of waveguide 1\n",
    "w2 = 2.0          # width of waveguide 2\n",
    "Lw = 10.0         # length of waveguides 1 and 2\n",
    "\n",
    "# lengths of waveguide taper\n",
    "Lts = [2**m for m in range(4)]\n",
    "\n",
    "dair = 3.0        # length of air region\n",
    "dpml_x = 6.0      # length of PML in x direction\n",
    "dpml_y = 2.0      # length of PML in y direction\n",
    "\n",
    "sy = dpml_y+dair+w2+dair+dpml_y\n",
    "\n",
    "Si = mp.Medium(epsilon=12.0)\n",
    "\n",
    "boundary_layers = [mp.PML(dpml_x,direction=mp.X),\n",
    "                   mp.PML(dpml_y,direction=mp.Y)]\n",
    "\n",
    "lcen = 6.67       # mode wavelength\n",
    "fcen = 1/lcen     # mode frequency\n",
    "\n",
    "symmetries = [mp.Mirror(mp.Y)]\n",
    "\n",
    "R_coeffs = []   ###\n",
    "R_flux = []     ###\n",
    "\n",
    "Lt = Lts[0]\n",
    "\n",
    "sx = dpml_x+Lw+Lt+Lw+dpml_x\n",
    "cell_size = mp.Vector3(sx,sy,0)\n",
    "\n",
    "src_pt = mp.Vector3(-0.5*sx+dpml_x+0.2*Lw)\n",
    "sources = [mp.EigenModeSource(src=mp.GaussianSource(fcen,fwidth=0.2*fcen),\n",
    "                              center=src_pt,\n",
    "                              size=mp.Vector3(y=sy-2*dpml_y),\n",
    "                              eig_match_freq=True,\n",
    "                              eig_parity=mp.ODD_Z+mp.EVEN_Y)]\n",
    "\n",
    "# straight waveguide\n",
    "vertices = [mp.Vector3(-0.5*sx-1,0.5*w1),\n",
    "            mp.Vector3(0.5*sx+1,0.5*w1),\n",
    "            mp.Vector3(0.5*sx+1,-0.5*w1),\n",
    "            mp.Vector3(-0.5*sx-1,-0.5*w1)]\n",
    "\n",
    "sim = mp.Simulation(resolution=resolution,\n",
    "                    cell_size=cell_size,\n",
    "                    boundary_layers=boundary_layers,\n",
    "                    geometry=[mp.Prism(vertices,height=mp.inf,material=Si)],\n",
    "                    sources=sources,\n",
    "                    symmetries=symmetries)\n",
    "\n",
    "mon_pt = mp.Vector3(-0.5*sx+dpml_x+0.7*Lw)\n",
    "\n",
    "\n",
    "flux = sim.add_flux(fcen,0,1,mp.FluxRegion(center=mon_pt,size=mp.Vector3(y=sy-2*dpml_y))) ###\n",
    "\n",
    "\n",
    "\n"
   ]
  },
  {
   "cell_type": "code",
   "execution_count": 2,
   "id": "46c786af",
   "metadata": {},
   "outputs": [
    {
     "name": "stdout",
     "output_type": "stream",
     "text": [
      "-----------\n",
      "Initializing structure...\n",
      "Halving computational cell along direction y\n",
      "time for choose_chunkdivision = 0.00455594 s\n",
      "Working in 2D dimensions.\n",
      "Computational cell is 33 x 12 x 0 with resolution 25\n",
      "     prism, center = (0,0,5e+19)\n",
      "          height 1e+20, axis (0,0,1), sidewall angle: 0 radians, 4 vertices:\n",
      "          (-17.5,0.5,0)\n",
      "          (17.5,0.5,0)\n",
      "          (17.5,-0.5,0)\n",
      "          (-17.5,-0.5,0)\n",
      "          dielectric constant epsilon diagonal = (12,12,12)\n",
      "time for set_epsilon = 0.396698 s\n",
      "-----------\n",
      "MPB solved for frequency_1(0.519356,0,0) = 0.176186 after 9 iters\n",
      "MPB solved for frequency_1(0.424206,0,0) = 0.149878 after 7 iters\n",
      "MPB solved for frequency_1(0.424377,0,0) = 0.149925 after 5 iters\n",
      "MPB solved for frequency_1(0.424377,0,0) = 0.149925 after 1 iters\n"
     ]
    },
    {
     "data": {
      "image/png": "[encoded data removed]",
      "text/plain": [
       "<Figure size 1200x800 with 1 Axes>"
      ]
     },
     "metadata": {
      "needs_background": "light"
     },
     "output_type": "display_data"
    }
   ],
   "source": [
    "from matplotlib import pyplot as plt\n",
    "%matplotlib inline\n",
    "plt.figure(dpi=200)\n",
    "sim.plot2D(plot_sources_flag=True,plot_monitors_flag=True,eps_parameters={'interpolation':'none'})\n",
    "plt.show()"
   ]
  },
  {
   "cell_type": "code",
   "execution_count": 3,
   "id": "3108d277",
   "metadata": {},
   "outputs": [
    {
     "name": "stdout",
     "output_type": "stream",
     "text": [
      "field decay(t = 50.02): 7.547409313337967e-08 / 7.547409313337967e-08 = 1.0\n",
      "on time step 2992 (time=59.84), 0.00133705 s/step\n",
      "field decay(t = 100.04): 0.001735614282175251 / 0.001735614282175251 = 1.0\n",
      "on time step 6017 (time=120.34), 0.0013226 s/step\n",
      "field decay(t = 150.06): 0.453978756917959 / 0.453978756917959 = 1.0\n",
      "on time step 9067 (time=181.34), 0.00131153 s/step\n",
      "field decay(t = 200.08): 1.5637205312091027 / 1.5637205312091027 = 1.0\n",
      "on time step 12117 (time=242.34), 0.00131173 s/step\n",
      "field decay(t = 250.1): 1.2378300815913292 / 1.5637205312091027 = 0.7915929073555183\n",
      "field decay(t = 300.12): 0.031049012038052423 / 1.5637205312091027 = 0.019855857500345443\n",
      "on time step 15170 (time=303.4), 0.00131042 s/step\n",
      "field decay(t = 350.14): 8.86045069739368e-06 / 1.5637205312091027 = 5.666262302345412e-06\n",
      "on time step 18222 (time=364.44), 0.00131082 s/step\n",
      "field decay(t = 400.16): 2.7848020318637953e-11 / 1.5637205312091027 = 1.780882182131692e-11\n",
      "run 0 finished at t = 400.16 (20008 timesteps)\n",
      "MPB solved for frequency_1(0.519356,0,0) = 0.176186 after 9 iters\n",
      "MPB solved for frequency_1(0.424206,0,0) = 0.149878 after 7 iters\n",
      "MPB solved for frequency_1(0.424377,0,0) = 0.149925 after 5 iters\n",
      "MPB solved for frequency_1(0.424377,0,0) = 0.149925 after 1 iters\n",
      "Dominant planewave for band 1: (0.424377,-0.000000,0.000000)\n"
     ]
    }
   ],
   "source": [
    "sim.run(until_after_sources=mp.stop_when_fields_decayed(50,mp.Ez,mon_pt,1e-9))\n",
    "\n",
    "res = sim.get_eigenmode_coefficients(flux,[1],eig_parity=mp.ODD_Z+mp.EVEN_Y)\n",
    "incident_coeffs = res.alpha\n",
    "incident_flux = mp.get_fluxes(flux)\n",
    "incident_flux_data = sim.get_flux_data(flux)\n"
   ]
  },
  {
   "cell_type": "code",
   "execution_count": 4,
   "id": "58cf669b",
   "metadata": {},
   "outputs": [
    {
     "name": "stdout",
     "output_type": "stream",
     "text": [
      "[[[22.54174281+24.59250578j -0.07208119 -0.07864032j]]]\n"
     ]
    }
   ],
   "source": [
    "print(incident_coeffs)"
   ]
  },
  {
   "cell_type": "code",
   "execution_count": 5,
   "id": "9ad73f1e",
   "metadata": {},
   "outputs": [
    {
     "name": "stdout",
     "output_type": "stream",
     "text": [
      "[1112.9271585030258]\n"
     ]
    }
   ],
   "source": [
    "print(incident_flux)"
   ]
  },
  {
   "cell_type": "code",
   "execution_count": 8,
   "id": "acb7e4f5",
   "metadata": {},
   "outputs": [
    {
     "name": "stdout",
     "output_type": "stream",
     "text": [
      "[Vector3<0.4243768409807916, -0.0, 0.0>]\n"
     ]
    }
   ],
   "source": [
    "print(res.)"
   ]
  },
  {
   "cell_type": "code",
   "execution_count": null,
   "id": "4bcda6db",
   "metadata": {},
   "outputs": [],
   "source": []
  }
 ],
 "metadata": {
  "kernelspec": {
   "display_name": "Python 3 (ipykernel)",
   "language": "python",
   "name": "python3"
  },
  "language_info": {
   "codemirror_mode": {
    "name": "ipython",
    "version": 3
   },
   "file_extension": ".py",
   "mimetype": "text/x-python",
   "name": "python",
   "nbconvert_exporter": "python",
   "pygments_lexer": "ipython3",
   "version": "3.9.7"
  }
 },
 "nbformat": 4,
 "nbformat_minor": 5
}
