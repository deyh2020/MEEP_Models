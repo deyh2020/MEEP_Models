{
 "cells": [
  {
   "cell_type": "code",
   "execution_count": 18,
   "id": "070d9e0a",
   "metadata": {},
   "outputs": [],
   "source": [
    "import meep as mp\n",
    "import numpy as np\n",
    "from numpy import linalg as LA\n",
    "import matplotlib.pyplot as plt\n",
    "\n",
    "n = 1.4440\n",
    "w = 2\n",
    "r = 1\n",
    "pad = 4\n",
    "dpml = 2\n",
    "\n",
    "cell_size = mp.Vector3(100,15,0)\n",
    "\n",
    "pml_layers = [mp.PML(thickness=1)]\n",
    "\n",
    "nonpml_vol = mp.Volume(mp.Vector3(), size=mp.Vector3(sxy-2*dpml,sxy-2*dpml))\n",
    "\n",
    "Clad = mp.Cylinder(height=mp.inf,\n",
    "                   radius=62.5, \n",
    "                   material=mp.Medium(index=1.44399),\n",
    "                   axis=mp.Vector3(x=1,y=0,z=0) )\n",
    "\n",
    "Core = mp.Cylinder(height=mp.inf,\n",
    "                   radius=4.1, \n",
    "                   material=mp.Medium(index=1.44813),\n",
    "                   axis=mp.Vector3(x=1,y=0,z=0) )\n",
    "\n",
    "geometry = [Clad,Core]\n",
    "\n",
    "fcen = 1/1.55\n",
    "df = 16e-3\n",
    "kpoint = mp.Vector3(mp.X)\n",
    "bnum = 1    # band number of eigenmode\n",
    "\n",
    "\n",
    "src = [mp.EigenModeSource(src=mp.GaussianSource(fcen,fwidth=df),\n",
    "                              center=mp.Vector3(x=-45,y=0,z=0),\n",
    "                              size=mp.Vector3(y=12),\n",
    "                              direction=mp.X,\n",
    "                              eig_kpoint=kpoint,\n",
    "                              eig_band=bnum,\n",
    "                              eig_parity=mp.NO_PARITY,\n",
    "                              eig_match_freq=True)]\n",
    "\n",
    "symmetries = [mp.Mirror(mp.Y,phase=+1)]\n",
    "\n",
    "sim = mp.Simulation(cell_size=cell_size,\n",
    "                    geometry=geometry,\n",
    "                    sources=src,\n",
    "                    resolution=5,\n",
    "                    force_complex_fields=True,\n",
    "                    #symmetries=symmetries,\n",
    "                    boundary_layers=pml_layers,\n",
    "                    #k_point=mp.Vector3(mp.X)\n",
    "                   )\n",
    "\n",
    "\n",
    "flux = sim.add_flux(fcen,0,1,mp.FluxRegion(center=mp.Vector3(x=45),size=mp.Vector3(y=12)))\n",
    "\n"
   ]
  },
  {
   "cell_type": "code",
   "execution_count": 19,
   "id": "18efd7ef",
   "metadata": {},
   "outputs": [
    {
     "name": "stdout",
     "output_type": "stream",
     "text": [
      "-----------\n",
      "Initializing structure...\n",
      "time for choose_chunkdivision = 0.000285149 s\n",
      "Working in 2D dimensions.\n",
      "Computational cell is 100 x 15 x 0 with resolution 5\n",
      "     cylinder, center = (0,0,0)\n",
      "          radius 62.5, height 1e+20, axis (1, 0, 0)\n",
      "          dielectric constant epsilon diagonal = (2.08511,2.08511,2.08511)\n",
      "     cylinder, center = (0,0,0)\n",
      "          radius 4.1, height 1e+20, axis (1, 0, 0)\n",
      "          dielectric constant epsilon diagonal = (2.09708,2.09708,2.09708)\n",
      "time for set_epsilon = 0.124705 s\n",
      "-----------\n",
      "Meep: using complex fields.\n",
      "MPB solved for frequency_1(0.934277,0,0) = 0.645576 after 120 iters\n",
      "MPB solved for frequency_1(0.933676,0,0) = 0.645161 after 12 iters\n",
      "MPB solved for frequency_1(0.933676,0,0) = 0.645161 after 1 iters\n"
     ]
    },
    {
     "data": {
      "image/png": "[encoded data removed]",
      "text/plain": [
       "<Figure size 1200x800 with 1 Axes>"
      ]
     },
     "metadata": {
      "needs_background": "light"
     },
     "output_type": "display_data"
    }
   ],
   "source": [
    "from matplotlib import pyplot as plt\n",
    "%matplotlib inline\n",
    "plt.figure(dpi=200)\n",
    "sim.plot2D(plot_sources_flag=True,plot_monitors_flag=True,eps_parameters={'interpolation':'none'})\n",
    "plt.show()"
   ]
  },
  {
   "cell_type": "code",
   "execution_count": 20,
   "id": "e20c774e",
   "metadata": {},
   "outputs": [
    {
     "name": "stdout",
     "output_type": "stream",
     "text": [
      "Meep: using output directory 'test/potato'\n"
     ]
    },
    {
     "data": {
      "application/vnd.jupyter.widget-view+json": {
       "model_id": "b5f2d51d62fe45aba9e432c4d95c4215",
       "version_major": 2,
       "version_minor": 0
      },
      "text/plain": [
       "FloatProgress(value=0.0, description='0% done ', max=150.00000000000003)"
      ]
     },
     "metadata": {},
     "output_type": "display_data"
    },
    {
     "name": "stdout",
     "output_type": "stream",
     "text": [
      "run 0 finished at t = 150.1 (1501 timesteps)\n"
     ]
    }
   ],
   "source": [
    "t = (1e-6/3e8)\n",
    "tFactor = 1e-15/t # converts femptoseconds into unitless MEEP \n",
    "\n",
    "Simtime = 500 #in femptoseconds\n",
    "\n",
    "sim.use_output_directory('test/potato')\n",
    "\n",
    "#sim.reset_meep()\n",
    "sim.run(until=(Simtime*tFactor))"
   ]
  },
  {
   "cell_type": "code",
   "execution_count": 23,
   "id": "67c9b551",
   "metadata": {},
   "outputs": [
    {
     "name": "stdout",
     "output_type": "stream",
     "text": [
      "MPB solved for frequency_1(0.934277,0,0) = 0.645576 after 49 iters\n",
      "MPB solved for frequency_1(0.933676,0,0) = 0.645161 after 12 iters\n",
      "MPB solved for frequency_1(0.933676,0,0) = 0.645161 after 1 iters\n",
      "Dominant planewave for band 1: (0.933676,-0.000000,0.000000)\n"
     ]
    },
    {
     "ename": "NameError",
     "evalue": "name 'R_coeffs' is not defined",
     "output_type": "error",
     "traceback": [
      "\u001b[0;31m---------------------------------------------------------------------------\u001b[0m",
      "\u001b[0;31mNameError\u001b[0m                                 Traceback (most recent call last)",
      "\u001b[0;32m/tmp/ipykernel_4471/530760766.py\u001b[0m in \u001b[0;36m<module>\u001b[0;34m\u001b[0m\n\u001b[1;32m      3\u001b[0m \u001b[0mtaper_flux\u001b[0m \u001b[0;34m=\u001b[0m \u001b[0mmp\u001b[0m\u001b[0;34m.\u001b[0m\u001b[0mget_fluxes\u001b[0m\u001b[0;34m(\u001b[0m\u001b[0mflux\u001b[0m\u001b[0;34m)\u001b[0m\u001b[0;34m\u001b[0m\u001b[0;34m\u001b[0m\u001b[0m\n\u001b[1;32m      4\u001b[0m \u001b[0;34m\u001b[0m\u001b[0m\n\u001b[0;32m----> 5\u001b[0;31m \u001b[0mR_coeffs\u001b[0m\u001b[0;34m.\u001b[0m\u001b[0mappend\u001b[0m\u001b[0;34m(\u001b[0m\u001b[0mabs\u001b[0m\u001b[0;34m(\u001b[0m\u001b[0mtaper_coeffs\u001b[0m\u001b[0;34m[\u001b[0m\u001b[0;36m0\u001b[0m\u001b[0;34m,\u001b[0m\u001b[0;36m0\u001b[0m\u001b[0;34m,\u001b[0m\u001b[0;36m1\u001b[0m\u001b[0;34m]\u001b[0m\u001b[0;34m)\u001b[0m\u001b[0;34m**\u001b[0m\u001b[0;36m2\u001b[0m\u001b[0;34m/\u001b[0m\u001b[0mabs\u001b[0m\u001b[0;34m(\u001b[0m\u001b[0mincident_coeffs\u001b[0m\u001b[0;34m[\u001b[0m\u001b[0;36m0\u001b[0m\u001b[0;34m,\u001b[0m\u001b[0;36m0\u001b[0m\u001b[0;34m,\u001b[0m\u001b[0;36m0\u001b[0m\u001b[0;34m]\u001b[0m\u001b[0;34m)\u001b[0m\u001b[0;34m**\u001b[0m\u001b[0;36m2\u001b[0m\u001b[0;34m)\u001b[0m\u001b[0;34m\u001b[0m\u001b[0;34m\u001b[0m\u001b[0m\n\u001b[0m\u001b[1;32m      6\u001b[0m \u001b[0mR_flux\u001b[0m\u001b[0;34m.\u001b[0m\u001b[0mappend\u001b[0m\u001b[0;34m(\u001b[0m\u001b[0;34m-\u001b[0m\u001b[0mtaper_flux\u001b[0m\u001b[0;34m[\u001b[0m\u001b[0;36m0\u001b[0m\u001b[0;34m]\u001b[0m\u001b[0;34m/\u001b[0m\u001b[0mincident_flux\u001b[0m\u001b[0;34m[\u001b[0m\u001b[0;36m0\u001b[0m\u001b[0;34m]\u001b[0m\u001b[0;34m)\u001b[0m\u001b[0;34m\u001b[0m\u001b[0;34m\u001b[0m\u001b[0m\n\u001b[1;32m      7\u001b[0m \u001b[0mprint\u001b[0m\u001b[0;34m(\u001b[0m\u001b[0;34m\"refl:, {}, {:.8f}, {:.8f}\"\u001b[0m\u001b[0;34m.\u001b[0m\u001b[0mformat\u001b[0m\u001b[0;34m(\u001b[0m\u001b[0mLt\u001b[0m\u001b[0;34m,\u001b[0m\u001b[0mR_coeffs\u001b[0m\u001b[0;34m[\u001b[0m\u001b[0;34m-\u001b[0m\u001b[0;36m1\u001b[0m\u001b[0;34m]\u001b[0m\u001b[0;34m,\u001b[0m\u001b[0mR_flux\u001b[0m\u001b[0;34m[\u001b[0m\u001b[0;34m-\u001b[0m\u001b[0;36m1\u001b[0m\u001b[0;34m]\u001b[0m\u001b[0;34m)\u001b[0m\u001b[0;34m)\u001b[0m\u001b[0;34m\u001b[0m\u001b[0;34m\u001b[0m\u001b[0m\n",
      "\u001b[0;31mNameError\u001b[0m: name 'R_coeffs' is not defined"
     ]
    }
   ],
   "source": [
    "res2 = sim.get_eigenmode_coefficients(flux,[1],eig_parity=mp.ODD_Z+mp.EVEN_Y)\n",
    "taper_coeffs = res2.alpha\n",
    "taper_flux = mp.get_fluxes(flux)\n",
    "\n",
    "R_coeffs.append(abs(taper_coeffs[0,0,1])**2/abs(incident_coeffs[0,0,0])**2)\n",
    "R_flux.append(-taper_flux[0]/incident_flux[0])\n",
    "print(\"refl:, {}, {:.8f}, {:.8f}\".format(Lt,R_coeffs[-1],R_flux[-1]))"
   ]
  },
  {
   "cell_type": "code",
   "execution_count": 22,
   "id": "fd6b0421",
   "metadata": {},
   "outputs": [
    {
     "data": {
      "text/plain": [
       "[0.6451612903225806]"
      ]
     },
     "execution_count": 22,
     "metadata": {},
     "output_type": "execute_result"
    }
   ],
   "source": [
    "mp.get_eigenmode_freqs(flux)"
   ]
  },
  {
   "cell_type": "code",
   "execution_count": null,
   "id": "ad3bd0b3",
   "metadata": {},
   "outputs": [],
   "source": []
  }
 ],
 "metadata": {
  "kernelspec": {
   "display_name": "Python 3 (ipykernel)",
   "language": "python",
   "name": "python3"
  },
  "language_info": {
   "codemirror_mode": {
    "name": "ipython",
    "version": 3
   },
   "file_extension": ".py",
   "mimetype": "text/x-python",
   "name": "python",
   "nbconvert_exporter": "python",
   "pygments_lexer": "ipython3",
   "version": "3.9.7"
  }
 },
 "nbformat": 4,
 "nbformat_minor": 5
}
