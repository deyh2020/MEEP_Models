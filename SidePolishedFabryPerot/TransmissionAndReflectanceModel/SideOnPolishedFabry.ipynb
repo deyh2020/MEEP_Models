{
 "cells": [
  {
   "cell_type": "code",
   "execution_count": 1,
   "id": "12761ef3",
   "metadata": {},
   "outputs": [],
   "source": [
    "import Model as M\n",
    "import numpy as np\n",
    "import meep as mp\n",
    "import matplotlib.pyplot as plt\n",
    "\n",
    "def fig_format(ax1,Title,Xlabel,Ylabel):\n",
    "    ax1.set_title(Title,fontsize=18)\n",
    "    ax1.set_xlabel(Xlabel,fontsize=16)\n",
    "    ax1.set_ylabel(Ylabel,fontsize=16)\n",
    "    #ax1.grid(b=True, which='major', color='grey', linestyle='-',alpha=0.4)\n",
    "    #ax1.grid(b=True, which='minor', color='grey', linestyle='--',alpha=0.4)\n",
    "    ax1.minorticks_on()  \n",
    "    #ax1.legend(title=legtitle)\n",
    "    ax1.ticklabel_format(style='sci',scilimits=(-1,5),axis='both',useOffset=False)"
   ]
  },
  {
   "cell_type": "code",
   "execution_count": 6,
   "id": "c5424201",
   "metadata": {},
   "outputs": [
    {
     "name": "stdout",
     "output_type": "stream",
     "text": [
      "WD: data/2021-12-14/Figures/\n",
      "AlreadyDir\n",
      "-----------\n",
      "Initializing structure...\n",
      "time for choose_chunkdivision = 0.000597954 s\n",
      "Working in 2D dimensions.\n",
      "Computational cell is 820 x 120 x 0 with resolution 5\n",
      "     block, center = (0,0,0)\n",
      "          size (1e+20,1e+20,1e+20)\n",
      "          axes (1,0,0), (0,1,0), (0,0,1)\n",
      "          dielectric constant epsilon diagonal = (1.9881,1.9881,1.9881)\n",
      "     block, center = (0,-56.4,0)\n",
      "          size (1e+20,125,1e+20)\n",
      "          axes (1,0,0), (0,1,0), (0,0,1)\n",
      "          dielectric constant epsilon diagonal = (2.0736,2.0736,2.0736)\n",
      "     block, center = (0,0,0)\n",
      "          size (1e+20,8.2,1e+20)\n",
      "          axes (1,0,0), (0,1,0), (0,0,1)\n",
      "          dielectric constant epsilon diagonal = (2.08803,2.08803,2.08803)\n",
      "     block, center = (0,-18.9,0)\n",
      "          size (300,50,1e+20)\n",
      "          axes (1,0,0), (0,1,0), (0,0,1)\n",
      "          dielectric constant epsilon diagonal = (1.9881,1.9881,1.9881)\n",
      "time for set_epsilon = 1.81585 s\n",
      "-----------\n",
      "MPB solved for frequency_1(0.4,0,0) = 0.2777 after 48 iters\n",
      "MPB solved for frequency_1(0.93139,0,0) = 0.645202 after 32 iters\n",
      "MPB solved for frequency_1(0.93133,0,0) = 0.645161 after 3 iters\n",
      "MPB solved for frequency_1(0.93133,0,0) = 0.645161 after 1 iters\n",
      "Meep: using output directory 'data/2021-12-14/Figures/'\n"
     ]
    },
    {
     "data": {
      "image/png": "[encoded data removed]",
      "text/plain": [
       "<Figure size 900x600 with 1 Axes>"
      ]
     },
     "metadata": {
      "needs_background": "light"
     },
     "output_type": "display_data"
    }
   ],
   "source": [
    "Model = M.Model() \n",
    "\n",
    "Model.filename = 'Figures'\n",
    "\n",
    "Model.GAP = 0\n",
    "Model.Width = 300\n",
    "Model.Depth = 50\n",
    "Model.BubblesNum = 1\n",
    "\n",
    "Model.res = 5\n",
    "Model.nCoating = 1.41\n",
    "Model.CladLeft = 2\n",
    "\n",
    "\n",
    "Model.buildPolished()\n",
    "Model.ADDsqrBubbles()\n",
    "Model.BuildModel()"
   ]
  },
  {
   "cell_type": "code",
   "execution_count": 9,
   "id": "c5a83414",
   "metadata": {},
   "outputs": [
    {
     "data": {
      "image/png": "[encoded data removed]",
      "text/plain": [
       "<Figure size 900x600 with 1 Axes>"
      ]
     },
     "metadata": {
      "needs_background": "light"
     },
     "output_type": "display_data"
    }
   ],
   "source": [
    "fig,ax = plt.subplots(dpi=150)\n",
    "\n",
    "Model.sim.plot2D(ax=ax,\n",
    "                 plot_sources_flag=False,\n",
    "                 plot_monitors_flag=False,\n",
    "                 plot_boundaries_flag=False,\n",
    "                 eps_parameters={'alpha':0.8, \n",
    "                                 'interpolation':'none',\n",
    "                                 'cmap':'binary'},\n",
    "                 )\n",
    "\n",
    "fig_format(ax,\"\",\"X / um\",\"Y / um\")\n",
    "\n",
    "ax.set_xlim(-220,220)\n",
    "\n",
    "plt.savefig(Model.workingDir+\"Model_\" + str(Model.Datafile) +\".pdf\")\n",
    "plt.show()"
   ]
  },
  {
   "cell_type": "code",
   "execution_count": null,
   "id": "f1ee8545",
   "metadata": {},
   "outputs": [],
   "source": []
  }
 ],
 "metadata": {
  "kernelspec": {
   "display_name": "Python 3 (ipykernel)",
   "language": "python",
   "name": "python3"
  },
  "language_info": {
   "codemirror_mode": {
    "name": "ipython",
    "version": 3
   },
   "file_extension": ".py",
   "mimetype": "text/x-python",
   "name": "python",
   "nbconvert_exporter": "python",
   "pygments_lexer": "ipython3",
   "version": "3.9.7"
  }
 },
 "nbformat": 4,
 "nbformat_minor": 5
}
