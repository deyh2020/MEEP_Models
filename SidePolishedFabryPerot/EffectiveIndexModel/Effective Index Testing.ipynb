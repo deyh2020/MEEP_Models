{
 "cells": [
  {
   "cell_type": "code",
   "execution_count": 53,
   "id": "67c79fd4",
   "metadata": {},
   "outputs": [
    {
     "name": "stdout",
     "output_type": "stream",
     "text": [
      "WD: data/2021-11-02/Debugging/\n",
      "AlreadyDir\n",
      "-----------\n",
      "Initializing structure...\n",
      "time for choose_chunkdivision = 0.000148058 s\n",
      "Working in 2D dimensions.\n",
      "Computational cell is 40 x 40 x 0 with resolution 5\n",
      "     cylinder, center = (0,0,0)\n",
      "          radius 62.5, height 1e+20, axis (0, 0, 1)\n",
      "          dielectric constant epsilon diagonal = (2.0736,2.0736,2.0736)\n",
      "     cylinder, center = (0,0,0)\n",
      "          radius 4.1, height 1e+20, axis (0, 0, 1)\n",
      "          dielectric constant epsilon diagonal = (2.08803,2.08803,2.08803)\n",
      "time for set_epsilon = 0.0340378 s\n",
      "-----------\n",
      "Meep: using complex fields.\n",
      "MPB solved for frequency_1(0,0,0.932258) = 0.646469 after 125 iters\n",
      "MPB solved for frequency_1(0,0,0.930368) = 0.645161 after 39 iters\n",
      "MPB solved for frequency_1(0,0,0.930368) = 0.645161 after 1 iters\n",
      "Meep: using output directory 'data/2021-11-02/Debugging/'\n"
     ]
    },
    {
     "data": {
      "application/vnd.jupyter.widget-view+json": {
       "model_id": "1169f6b1e9874129ba1ee1d98c0040a0",
       "version_major": 2,
       "version_minor": 0
      },
      "text/plain": [
       "FloatProgress(value=0.0, description='0% done ', max=101.54999995231628)"
      ]
     },
     "metadata": {},
     "output_type": "display_data"
    },
    {
     "name": "stdout",
     "output_type": "stream",
     "text": [
      "harminv0:, frequency, imag. freq., Q, |amp|, amplitude, error\n",
      "harminv0:, 0.6509976441440513, 1.5487152534708567e-05, -21017.344624361627, 0.07183497652284074, 0.022249532267351543-0.06830243162524423i, 7.515795899545914e-08+0.0i\n",
      "harminv0:, 0.6952245401605985, 0.002332279257908133, -149.04401730694957, 2.9434534232367582e-05, -6.6497980912906e-06-2.867354165117185e-05i, 9.908771727451e-05+0.0i\n",
      "harminv0:, 0.7488352161904576, -0.0012869838480388605, 290.926423564504, 5.761223301931396e-05, 5.484805232143098e-05+1.7631237903712224e-05i, 5.952433960492551e-05+0.0i\n",
      "harminv0:, 0.7955573843403662, -0.0033881109624860246, 117.40426939214328, 6.585406772033528e-05, -5.9376856765411684e-05+2.8480644584950826e-05i, 5.337774938736043e-05+0.0i\n",
      "harminv0:, 0.8241401500792992, -0.004605357691706215, 89.47623672787594, 6.892718626964745e-05, -2.6542051436580748e-05-6.361192115153085e-05i, 0.00012009415291097294+0.0i\n",
      "harminv0:, 0.929303601713525, 3.12412637491259e-05, -14873.015528053438, 6.775285251647145e-06, -2.548047883662898e-06+6.277893135738163e-06i, 0.00029144877652083757+0.0i\n",
      "harminv0:, 0.9703114439099356, -0.006193325842514239, 78.33524899087406, 5.7966413897425495e-05, 5.5612194123565986e-05+1.6352033662222463e-05i, 0.0002861419189228033+0.0i\n",
      "harminv0:, 1.0000706221671563, -0.005430849630498084, 92.07312761442043, 4.0722893139302046e-05, -3.713499301251415e-07+4.072119994381808e-05i, 0.00040961665893911726+0.0i\n",
      "harminv0:, 1.0592221616305906, -0.008106042921926255, 65.33534128998207, 0.00010493775375576741, 9.735562530654425e-05-3.916394240213617e-05i, 0.00013167810475435377+0.0i\n",
      "harminv0:, 1.1111766127419462, -0.004816136724653416, 115.35974540069873, 3.394828442727969e-05, -2.6166367613736482e-05+2.1628851598230624e-05i, 0.00021225667854699046+0.0i\n",
      "harminv0:, 1.1399956415680144, -0.0006296063937502708, 905.3240666582129, 7.91845021185356e-06, 3.164242765199231e-06-7.258747927879023e-06i, 0.00025663825087293886+0.0i\n",
      "harminv0:, 1.1835929398964984, 7.931836309515799e-05, -7461.02726853141, 5.646907218659657e-06, 1.2001599913045716e-06+5.517896078345655e-06i, 0.00042438642004385523+0.0i\n",
      "harminv0:, 1.23528373213182, 0.0032614355199911287, -189.3773040368402, 2.140624025109296e-06, -6.799431725160506e-07+2.029765626623905e-06i, 0.0016533058992058453+0.0i\n",
      "harminv0:, 1.2493698611601856, 0.006408415697319868, -97.47884033823662, 9.18080262951464e-07, 8.770810205243029e-07+2.7129366497778126e-07i, 0.002228061810212763+0.0i\n",
      "harminv0:, 1.316323777405005, -0.002866031317512488, 229.64225292337014, 6.670600879485759e-06, 4.7781595202569576e-06+4.654686637398266e-06i, 0.0005899349208182886+0.0i\n",
      "harminv0:, 1.3339702818543977, -0.012360806761323544, 53.95967705070578, 2.0611206644513522e-05, 1.3882197701874384e-05-1.5235039425906056e-05i, 0.0006050326865726997+0.0i\n",
      "run 0 finished at t = 101.60000000000001 (1016 timesteps)\n",
      "MPB solved for frequency_1(0,0,0.932258) = 0.646469 after 125 iters\n",
      "Dominant planewave for band 1: (0.000000,0.000000,0.932258)\n"
     ]
    }
   ],
   "source": [
    "import Model as M\n",
    "import time as time\n",
    "import numpy as np\n",
    "\n",
    "Model = M.Model()\n",
    "\n",
    "\n",
    "Model.res = 4\n",
    "Model.filename = 'Debugging'\n",
    "Model.Notes    = 'Trying to get Bloch BC working'\n",
    "#Model.SrcSize  = 20\n",
    "\n",
    "Model.Pad = 0       #Cladding left over from polishing\n",
    "Model.df     = 10*Model.fcen\n",
    "\n",
    "Model.buildFibre()\n",
    "#Model.buildPolishedFibre(WPDMS=True)\n",
    "\n",
    "Model.BuildModel(Plot=True) \n",
    "\n",
    "#Model.GetEigenModes() #also sets sources up at the fundamental mode\n",
    "\n",
    "#Model.SimT = 100  #setSimtime in fs\n",
    "#Model.RunAndPlotF()\n",
    "\n",
    "#Model.RunKpoints()\n",
    "Model.RunHarmv()\n",
    "#Model.RunAndPlotF()"
   ]
  },
  {
   "cell_type": "code",
   "execution_count": 58,
   "id": "08c15563",
   "metadata": {},
   "outputs": [
    {
     "name": "stdout",
     "output_type": "stream",
     "text": [
      "wi 97.30864925612997\n",
      "vg 206874209.06500202\n",
      "k0 4053667.940115862\n",
      "k 6739748.945417549\n",
      "\n",
      "n_eff = (1.6626297577854672+1.1603711519813295e-13j)\n"
     ]
    }
   ],
   "source": [
    "import cmath\n",
    "\n",
    "a = 1e-6\n",
    "c = 2.99e8\n",
    "\n",
    "\n",
    "wi = Model.harm.modes[0].decay * (2*np.pi/a) \n",
    "\n",
    "vg = Model.vg  * c     # grab group v and convert to m/s\n",
    "\n",
    "print('wi',wi)\n",
    "print('vg',vg)\n",
    "\n",
    "lam = 1.55e-6\n",
    "\n",
    "k0 = 2*np.pi/lam\n",
    "k  = 1/Model.kpoint.z * 2*np.pi/a\n",
    "\n",
    "print('k0',k0)\n",
    "print('k',k)\n",
    "\n",
    "bi = wi/vg\n",
    "\n",
    "b = complex(k,bi)\n",
    "\n",
    "print(\"\")\n",
    "\n",
    "#print(\"Propagation Constant =\",b)\n",
    "\n",
    "neff = b/k0\n",
    "\n",
    "print(\"n_eff =\",neff)\n"
   ]
  },
  {
   "cell_type": "code",
   "execution_count": 31,
   "id": "c335c4d4",
   "metadata": {},
   "outputs": [
    {
     "name": "stdout",
     "output_type": "stream",
     "text": [
      "5.837281833766841\n"
     ]
    }
   ],
   "source": [
    "actualB = 1.44*2*np.pi/(1.55)\n",
    "print(actualB)"
   ]
  },
  {
   "cell_type": "code",
   "execution_count": 59,
   "id": "b5d36b3e",
   "metadata": {},
   "outputs": [
    {
     "name": "stdout",
     "output_type": "stream",
     "text": [
      "(2+2j)\n",
      "(4+4j)\n"
     ]
    }
   ],
   "source": [
    "b = complex(2,2)\n",
    "print(b)\n",
    "print(2*b)"
   ]
  },
  {
   "cell_type": "code",
   "execution_count": null,
   "id": "dda16380",
   "metadata": {},
   "outputs": [],
   "source": []
  }
 ],
 "metadata": {
  "kernelspec": {
   "display_name": "Python 3 (ipykernel)",
   "language": "python",
   "name": "python3"
  },
  "language_info": {
   "codemirror_mode": {
    "name": "ipython",
    "version": 3
   },
   "file_extension": ".py",
   "mimetype": "text/x-python",
   "name": "python",
   "nbconvert_exporter": "python",
   "pygments_lexer": "ipython3",
   "version": "3.9.7"
  }
 },
 "nbformat": 4,
 "nbformat_minor": 5
}
