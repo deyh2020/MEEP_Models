{
 "cells": [
  {
   "cell_type": "code",
   "execution_count": 1,
   "id": "7e586e24",
   "metadata": {},
   "outputs": [],
   "source": [
    "import meep as mp\n",
    "import matplotlib.pyplot as plt"
   ]
  },
  {
   "cell_type": "code",
   "execution_count": 2,
   "id": "80b4fa3b",
   "metadata": {},
   "outputs": [
    {
     "ename": "NameError",
     "evalue": "name 'Lt' is not defined",
     "output_type": "error",
     "traceback": [
      "\u001b[0;31m---------------------------------------------------------------------------\u001b[0m",
      "\u001b[0;31mNameError\u001b[0m                                 Traceback (most recent call last)",
      "\u001b[0;32m/tmp/ipykernel_3702/4034882142.py\u001b[0m in \u001b[0;36m<module>\u001b[0;34m\u001b[0m\n\u001b[1;32m     27\u001b[0m \u001b[0mR_flux\u001b[0m \u001b[0;34m=\u001b[0m \u001b[0;34m[\u001b[0m\u001b[0;34m]\u001b[0m\u001b[0;34m\u001b[0m\u001b[0;34m\u001b[0m\u001b[0m\n\u001b[1;32m     28\u001b[0m \u001b[0;34m\u001b[0m\u001b[0m\n\u001b[0;32m---> 29\u001b[0;31m \u001b[0msx\u001b[0m \u001b[0;34m=\u001b[0m \u001b[0mdpml_x\u001b[0m\u001b[0;34m+\u001b[0m\u001b[0mLw\u001b[0m\u001b[0;34m+\u001b[0m\u001b[0mLt\u001b[0m\u001b[0;34m+\u001b[0m\u001b[0mLw\u001b[0m\u001b[0;34m+\u001b[0m\u001b[0mdpml_x\u001b[0m\u001b[0;34m\u001b[0m\u001b[0;34m\u001b[0m\u001b[0m\n\u001b[0m\u001b[1;32m     30\u001b[0m \u001b[0mcell_size\u001b[0m \u001b[0;34m=\u001b[0m \u001b[0mmp\u001b[0m\u001b[0;34m.\u001b[0m\u001b[0mVector3\u001b[0m\u001b[0;34m(\u001b[0m\u001b[0msx\u001b[0m\u001b[0;34m,\u001b[0m\u001b[0msy\u001b[0m\u001b[0;34m,\u001b[0m\u001b[0;36m0\u001b[0m\u001b[0;34m)\u001b[0m\u001b[0;34m\u001b[0m\u001b[0;34m\u001b[0m\u001b[0m\n\u001b[1;32m     31\u001b[0m \u001b[0;34m\u001b[0m\u001b[0m\n",
      "\u001b[0;31mNameError\u001b[0m: name 'Lt' is not defined"
     ]
    }
   ],
   "source": [
    "resolution = 25   # pixels/μm\n",
    "\n",
    "w1 = 1.0          # width of waveguide 1\n",
    "w2 = 2.0          # width of waveguide 2\n",
    "Lw = 10.0         # length of waveguides 1 and 2\n",
    "\n",
    "# lengths of waveguide taper\n",
    "Lts = [2**m for m in range(4)]\n",
    "\n",
    "dair = 3.0        # length of air region\n",
    "dpml_x = 6.0      # length of PML in x direction\n",
    "dpml_y = 2.0      # length of PML in y direction\n",
    "\n",
    "sy = dpml_y+dair+w2+dair+dpml_y\n",
    "\n",
    "Si = mp.Medium(epsilon=12.0)\n",
    "\n",
    "boundary_layers = [mp.PML(dpml_x,direction=mp.X),\n",
    "                   mp.PML(dpml_y,direction=mp.Y)]\n",
    "\n",
    "lcen = 6.67       # mode wavelength\n",
    "fcen = 1/lcen     # mode frequency\n",
    "\n",
    "symmetries = [mp.Mirror(mp.Y)]\n",
    "\n",
    "R_coeffs = []\n",
    "R_flux = []\n",
    "\n",
    "sx = dpml_x+Lw+Lt+Lw+dpml_x\n",
    "cell_size = mp.Vector3(sx,sy,0)\n",
    "\n",
    "src_pt = mp.Vector3(-0.5*sx+dpml_x+0.2*Lw)\n",
    "sources = [mp.EigenModeSource(src=mp.GaussianSource(fcen,fwidth=0.2*fcen),\n",
    "                              center=src_pt,\n",
    "                              size=mp.Vector3(y=sy-2*dpml_y),\n",
    "                              eig_match_freq=True,\n",
    "                              eig_parity=mp.ODD_Z+mp.EVEN_Y)]\n",
    "\n",
    "\n",
    "# straight waveguide\n",
    "vertices = [mp.Vector3(-0.5*sx-1,0.5*w1),\n",
    "            mp.Vector3(0.5*sx+1,0.5*w1),\n",
    "            mp.Vector3(0.5*sx+1,-0.5*w1),\n",
    "            mp.Vector3(-0.5*sx-1,-0.5*w1)]\n",
    "\n",
    "sim = mp.Simulation(resolution=resolution,\n",
    "                    cell_size=cell_size,\n",
    "                    boundary_layers=boundary_layers,\n",
    "                    geometry=[mp.Prism(vertices,height=mp.inf,material=Si)],\n",
    "                    sources=sources,\n",
    "                    symmetries=symmetries)\n",
    "\n",
    "mon_pt = mp.Vector3(-0.5*sx+dpml_x+0.7*Lw)\n",
    "flux = sim.add_flux(fcen,0,1,mp.FluxRegion(center=mon_pt,size=mp.Vector3(y=sy-2*dpml_y)))\n",
    "\n",
    "\n"
   ]
  },
  {
   "cell_type": "code",
   "execution_count": 4,
   "id": "58f28864",
   "metadata": {},
   "outputs": [
    {
     "ename": "NameError",
     "evalue": "name 'self' is not defined",
     "output_type": "error",
     "traceback": [
      "\u001b[0;31m---------------------------------------------------------------------------\u001b[0m",
      "\u001b[0;31mNameError\u001b[0m                                 Traceback (most recent call last)",
      "\u001b[0;32m/tmp/ipykernel_3616/506736657.py\u001b[0m in \u001b[0;36m<module>\u001b[0;34m\u001b[0m\n\u001b[1;32m      1\u001b[0m \u001b[0mplt\u001b[0m\u001b[0;34m.\u001b[0m\u001b[0mfigure\u001b[0m\u001b[0;34m(\u001b[0m\u001b[0mdpi\u001b[0m\u001b[0;34m=\u001b[0m\u001b[0;36m200\u001b[0m\u001b[0;34m)\u001b[0m\u001b[0;34m\u001b[0m\u001b[0;34m\u001b[0m\u001b[0m\n\u001b[0;32m----> 2\u001b[0;31m \u001b[0mself\u001b[0m\u001b[0;34m.\u001b[0m\u001b[0msim\u001b[0m\u001b[0;34m.\u001b[0m\u001b[0mplot2D\u001b[0m\u001b[0;34m(\u001b[0m\u001b[0meps_parameters\u001b[0m\u001b[0;34m=\u001b[0m\u001b[0;34m{\u001b[0m\u001b[0;34m'alpha'\u001b[0m\u001b[0;34m:\u001b[0m\u001b[0;36m0.8\u001b[0m\u001b[0;34m,\u001b[0m \u001b[0;34m'interpolation'\u001b[0m\u001b[0;34m:\u001b[0m\u001b[0;34m'none'\u001b[0m\u001b[0;34m}\u001b[0m\u001b[0;34m)\u001b[0m\u001b[0;34m\u001b[0m\u001b[0;34m\u001b[0m\u001b[0m\n\u001b[0m\u001b[1;32m      3\u001b[0m \u001b[0mplt\u001b[0m\u001b[0;34m.\u001b[0m\u001b[0mshow\u001b[0m\u001b[0;34m(\u001b[0m\u001b[0;34m)\u001b[0m\u001b[0;34m\u001b[0m\u001b[0;34m\u001b[0m\u001b[0m\n",
      "\u001b[0;31mNameError\u001b[0m: name 'self' is not defined"
     ]
    },
    {
     "data": {
      "text/plain": [
       "<Figure size 1200x800 with 0 Axes>"
      ]
     },
     "metadata": {},
     "output_type": "display_data"
    }
   ],
   "source": [
    "plt.figure(dpi=200)\n",
    "self.sim.plot2D(eps_parameters={'alpha':0.8, 'interpolation':'none'})\n",
    "plt.show()"
   ]
  },
  {
   "cell_type": "code",
   "execution_count": null,
   "id": "340b5a2d",
   "metadata": {},
   "outputs": [],
   "source": []
  }
 ],
 "metadata": {
  "kernelspec": {
   "display_name": "Python 3 (ipykernel)",
   "language": "python",
   "name": "python3"
  },
  "language_info": {
   "codemirror_mode": {
    "name": "ipython",
    "version": 3
   },
   "file_extension": ".py",
   "mimetype": "text/x-python",
   "name": "python",
   "nbconvert_exporter": "python",
   "pygments_lexer": "ipython3",
   "version": "3.9.7"
  }
 },
 "nbformat": 4,
 "nbformat_minor": 5
}
