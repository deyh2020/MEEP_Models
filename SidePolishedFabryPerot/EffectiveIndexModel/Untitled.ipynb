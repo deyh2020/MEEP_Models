{
 "cells": [
  {
   "cell_type": "code",
   "execution_count": 1,
   "id": "67c79fd4",
   "metadata": {},
   "outputs": [
    {
     "name": "stdout",
     "output_type": "stream",
     "text": [
      "[<meep.geom.Cylinder object at 0x7fb9abe472e0>, <meep.geom.Cylinder object at 0x7fb9ac5c69a0>, <meep.geom.Block object at 0x7fb9abe7e9a0>]\n",
      "WD: data/2021-10-29/Debugging/\n",
      "AlreadyDir\n",
      "-----------\n",
      "Initializing structure...\n",
      "time for choose_chunkdivision = 0.000142097 s\n",
      "Working in 2D dimensions.\n",
      "Computational cell is 40 x 40 x 0 with resolution 4\n",
      "     cylinder, center = (0,0,0)\n",
      "          radius 62.5, height 1e+20, axis (0, 0, 1)\n",
      "          dielectric constant epsilon diagonal = (2.0736,2.0736,2.0736)\n",
      "     cylinder, center = (0,0,0)\n",
      "          radius 4.1, height 1e+20, axis (0, 0, 1)\n",
      "          dielectric constant epsilon diagonal = (2.08803,2.08803,2.08803)\n",
      "     block, center = (0,35.35,0)\n",
      "          size (125,62.5,1e+20)\n",
      "          axes (1,0,0), (0,1,0), (0,0,1)\n",
      "          dielectric constant epsilon diagonal = (1.9881,1.9881,1.9881)\n",
      "time for set_epsilon = 0.019861 s\n",
      "-----------\n",
      "Meep: using complex fields.\n",
      "MPB solved for frequency_1(0,0,0.932258) = 0.646775 after 91 iters\n",
      "MPB solved for frequency_1(0,0,0.929925) = 0.645161 after 7 iters\n",
      "MPB solved for frequency_1(0,0,0.929925) = 0.645161 after 1 iters\n",
      "Meep: using output directory 'data/2021-10-29/Debugging/'\n"
     ]
    },
    {
     "data": {
      "application/vnd.jupyter.widget-view+json": {
       "model_id": "6c4a7fed1d694508ad90401d78aa8e21",
       "version_major": 2,
       "version_minor": 0
      },
      "text/plain": [
       "FloatProgress(value=0.0, description='0% done ', max=100.1550000011921)"
      ]
     },
     "metadata": {},
     "output_type": "display_data"
    },
    {
     "name": "stdout",
     "output_type": "stream",
     "text": [
      "harminv0:, frequency, imag. freq., Q, |amp|, amplitude, error\n",
      "harminv0:, 0.6539016619559813, -0.0001046301426950605, 3124.8244775014127, 0.01668816829341423, 0.016684276645775802+0.0003603800723350639i, 4.963930788701804e-07+0.0i\n",
      "harminv0:, 0.663877999581775, 9.193246186807581e-05, -3610.6832455680774, 0.00047747996848447236, -0.0004529498551627759+0.00015107464715150934i, 2.620541279608661e-05+0.0i\n",
      "harminv0:, 0.6762118605861979, -0.006548036852624725, 51.63470180494968, 0.00027933478194634096, 0.00014705469697059588+0.00023749281358368738i, 0.00011534053645139294+0.0i\n",
      "harminv0:, 0.8439388766871605, -0.004819930152518638, 87.54679528355437, 4.851309169870441e-06, 1.5768700906526893e-06+4.5878841941437455e-06i, 0.0004919435980479108+0.0i\n",
      "harminv0:, 0.8787389436757699, -0.007426752808046268, 59.16037374528808, 1.2610558753582485e-05, -1.5447957458955177e-06-1.2515582215023756e-05i, 0.0005219081495025807+0.0i\n",
      "harminv0:, 1.058390913436586, 0.0039904297269636934, -132.61615738838142, 2.4007050384892453e-08, -1.7416778425051038e-08+1.6522539074713716e-08i, 0.0007919477154014536+0.0i\n",
      "harminv0:, 1.1223229724719463, -0.002431848242956772, 230.75514183964162, 2.6024647131299648e-06, -2.2641572596290252e-06-1.2831268396989488e-06i, 0.0003569457590689335+0.0i\n",
      "run 0 finished at t = 100.25 (802 timesteps)\n",
      "MPB solved for frequency_1(0,0,0.932258) = 0.646775 after 91 iters\n",
      "Dominant planewave for band 1: (0.000000,0.000000,0.932258)\n"
     ]
    }
   ],
   "source": [
    "import Model as M\n",
    "import time as time\n",
    "import numpy as np\n",
    "\n",
    "Model = M.Model()\n",
    "\n",
    "\n",
    "Model.res = 4\n",
    "Model.filename = 'Debugging'\n",
    "Model.Notes    = 'Trying to get Bloch BC working'\n",
    "#Model.SrcSize  = 20\n",
    "\n",
    "Model.Pad = 0       #Cladding left over from polishing\n",
    "Model.df     = 100*Model.fcen\n",
    "\n",
    "#Model.buildFibre()\n",
    "Model.buildPolishedFibre(WPDMS=True)\n",
    "\n",
    "Model.BuildModel(Plot=False) \n",
    "\n",
    "#Model.GetEigenModes() #also sets sources up at the fundamental mode\n",
    "\n",
    "#Model.SimT = 100  #setSimtime in fs\n",
    "#Model.RunAndPlotF()\n",
    "\n",
    "#Model.RunKpoints()\n",
    "Model.RunHarmv()"
   ]
  },
  {
   "cell_type": "code",
   "execution_count": 3,
   "id": "08c15563",
   "metadata": {},
   "outputs": [
    {
     "name": "stdout",
     "output_type": "stream",
     "text": [
      "835.5181833811426\n"
     ]
    }
   ],
   "source": [
    "a = 1e-6\n",
    "c = 2.99e8\n",
    "\n",
    "wi = Model.harm.modes[0].decay \n",
    "vg = Model.vg \n",
    "\n",
    "b = (wi/vg) * 2*np.pi/a\n",
    "\n",
    "print(b)"
   ]
  },
  {
   "cell_type": "code",
   "execution_count": 4,
   "id": "c335c4d4",
   "metadata": {},
   "outputs": [
    {
     "name": "stdout",
     "output_type": "stream",
     "text": [
      "5.837281833766841\n"
     ]
    }
   ],
   "source": [
    "actualB = 1.44*2*np.pi/(1.55)\n",
    "print(actualB)"
   ]
  },
  {
   "cell_type": "code",
   "execution_count": 5,
   "id": "db195860",
   "metadata": {},
   "outputs": [
    {
     "name": "stdout",
     "output_type": "stream",
     "text": [
      "206.1141158388178\n"
     ]
    }
   ],
   "source": [
    "neff = b*(1.55/(2 * np.pi))\n",
    "print(neff)"
   ]
  },
  {
   "cell_type": "code",
   "execution_count": null,
   "id": "b5d36b3e",
   "metadata": {},
   "outputs": [],
   "source": []
  }
 ],
 "metadata": {
  "kernelspec": {
   "display_name": "Python 3 (ipykernel)",
   "language": "python",
   "name": "python3"
  },
  "language_info": {
   "codemirror_mode": {
    "name": "ipython",
    "version": 3
   },
   "file_extension": ".py",
   "mimetype": "text/x-python",
   "name": "python",
   "nbconvert_exporter": "python",
   "pygments_lexer": "ipython3",
   "version": "3.9.7"
  }
 },
 "nbformat": 4,
 "nbformat_minor": 5
}
